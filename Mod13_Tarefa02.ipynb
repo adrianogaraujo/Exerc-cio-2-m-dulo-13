{
 "cells": [
  {
   "cell_type": "markdown",
   "metadata": {},
   "source": [
    "# EBAC - Regressão II - regressão múltipla\n",
    "\n",
    "## Tarefa II"
   ]
  },
  {
   "cell_type": "markdown",
   "metadata": {},
   "source": [
    "#### Previsão de renda II\n",
    "\n",
    "Vamos continuar trabalhando com a base 'previsao_de_renda.csv', que é a base do seu próximo projeto. Vamos usar os recursos que vimos até aqui nesta base.\n",
    "\n",
    "|variavel|descrição|\n",
    "|-|-|\n",
    "|data_ref                | Data de referência de coleta das variáveis |\n",
    "|index                   | Código de identificação do cliente|\n",
    "|sexo                    | Sexo do cliente|\n",
    "|posse_de_veiculo        | Indica se o cliente possui veículo|\n",
    "|posse_de_imovel         | Indica se o cliente possui imóvel|\n",
    "|qtd_filhos              | Quantidade de filhos do cliente|\n",
    "|tipo_renda              | Tipo de renda do cliente|\n",
    "|educacao                | Grau de instrução do cliente|\n",
    "|estado_civil            | Estado civil do cliente|\n",
    "|tipo_residencia         | Tipo de residência do cliente (própria, alugada etc)|\n",
    "|idade                   | Idade do cliente|\n",
    "|tempo_emprego           | Tempo no emprego atual|\n",
    "|qt_pessoas_residencia   | Quantidade de pessoas que moram na residência|\n",
    "|renda                   | Renda em reais|"
   ]
  },
  {
   "cell_type": "code",
   "execution_count": 3,
   "metadata": {},
   "outputs": [],
   "source": [
    "import numpy as np\n",
    "import pandas as pd\n",
    "from sklearn.model_selection import train_test_split\n",
    "from sklearn.preprocessing import StandardScaler, OneHotEncoder, PolynomialFeatures\n",
    "from sklearn.impute import SimpleImputer\n",
    "from sklearn.compose import ColumnTransformer\n",
    "from sklearn.pipeline import Pipeline\n",
    "from sklearn.linear_model import Lasso\n",
    "from sklearn.metrics import r2_score\n",
    "from sklearn.tree import DecisionTreeRegressor\n",
    "from sklearn.linear_model import Ridge\n",
    "from sklearn.linear_model import LinearRegression\n",
    "from sklearn.feature_selection import RFE\n",
    "import warnings\n",
    "warnings.filterwarnings('ignore')\n"
   ]
  },
  {
   "cell_type": "code",
   "execution_count": 4,
   "metadata": {},
   "outputs": [],
   "source": [
    "df = pd.read_csv('previsao_de_renda.csv')"
   ]
  },
  {
   "cell_type": "code",
   "execution_count": 5,
   "metadata": {},
   "outputs": [
    {
     "name": "stdout",
     "output_type": "stream",
     "text": [
      "<class 'pandas.core.frame.DataFrame'>\n",
      "RangeIndex: 15000 entries, 0 to 14999\n",
      "Data columns (total 15 columns):\n",
      " #   Column                 Non-Null Count  Dtype  \n",
      "---  ------                 --------------  -----  \n",
      " 0   Unnamed: 0             15000 non-null  int64  \n",
      " 1   data_ref               15000 non-null  object \n",
      " 2   id_cliente             15000 non-null  int64  \n",
      " 3   sexo                   15000 non-null  object \n",
      " 4   posse_de_veiculo       15000 non-null  bool   \n",
      " 5   posse_de_imovel        15000 non-null  bool   \n",
      " 6   qtd_filhos             15000 non-null  int64  \n",
      " 7   tipo_renda             15000 non-null  object \n",
      " 8   educacao               15000 non-null  object \n",
      " 9   estado_civil           15000 non-null  object \n",
      " 10  tipo_residencia        15000 non-null  object \n",
      " 11  idade                  15000 non-null  int64  \n",
      " 12  tempo_emprego          12427 non-null  float64\n",
      " 13  qt_pessoas_residencia  15000 non-null  float64\n",
      " 14  renda                  15000 non-null  float64\n",
      "dtypes: bool(2), float64(3), int64(4), object(6)\n",
      "memory usage: 1.5+ MB\n"
     ]
    }
   ],
   "source": [
    "df.info()"
   ]
  },
  {
   "cell_type": "markdown",
   "metadata": {},
   "source": [
    "1. Separe a base em treinamento e teste (25% para teste, 75% para treinamento).\n",
    "2. Rode uma regularização *ridge* com alpha = [0, 0.001, 0.005, 0.01, 0.05, 0.1] e avalie o $R^2$ na base de testes. Qual o melhor modelo?\n",
    "3. Faça o mesmo que no passo 2, com uma regressão *LASSO*. Qual método chega a um melhor resultado?\n",
    "4. Rode um modelo *stepwise*. Avalie o $R^2$ na base de testes. Qual o melhor resultado?\n",
    "5. Compare os parâmetros e avalie eventuais diferenças. Qual modelo você acha o melhor de todos?\n",
    "6. Partindo dos modelos que você ajustou, tente melhorar o $R^2$ na base de testes. Use a criatividade, veja se consegue inserir alguma transformação ou combinação de variáveis.\n",
    "7. Ajuste uma árvore de regressão e veja se consegue um $R^2$ melhor com ela."
   ]
  },
  {
   "cell_type": "code",
   "execution_count": 7,
   "metadata": {},
   "outputs": [
    {
     "name": "stdout",
     "output_type": "stream",
     "text": [
      "<class 'pandas.core.frame.DataFrame'>\n",
      "Index: 11250 entries, 7410 to 7270\n",
      "Data columns (total 12 columns):\n",
      " #   Column                 Non-Null Count  Dtype  \n",
      "---  ------                 --------------  -----  \n",
      " 0   sexo                   11250 non-null  object \n",
      " 1   posse_de_veiculo       11250 non-null  bool   \n",
      " 2   posse_de_imovel        11250 non-null  bool   \n",
      " 3   qtd_filhos             11250 non-null  int64  \n",
      " 4   tipo_renda             11250 non-null  object \n",
      " 5   educacao               11250 non-null  object \n",
      " 6   estado_civil           11250 non-null  object \n",
      " 7   tipo_residencia        11250 non-null  object \n",
      " 8   idade                  11250 non-null  int64  \n",
      " 9   tempo_emprego          9313 non-null   float64\n",
      " 10  qt_pessoas_residencia  11250 non-null  float64\n",
      " 11  renda                  11250 non-null  float64\n",
      "dtypes: bool(2), float64(3), int64(2), object(5)\n",
      "memory usage: 988.8+ KB\n"
     ]
    }
   ],
   "source": [
    "# Carregando o dataset\n",
    "df = pd.read_csv('previsao_de_renda.csv')\n",
    "\n",
    "# Dividindo o dataset em conjuntos de treinamento e teste\n",
    "train_df, test_df = train_test_split(df, test_size=0.25, random_state=42)\n",
    "# Removendo as colunas 'Unnamed: 0', 'data_ref' e 'id_cliente' dos conjuntos de treinamento e teste\n",
    "train_df.drop(['Unnamed: 0', 'data_ref', 'id_cliente'], axis=1, inplace=True)\n",
    "test_df.drop(['Unnamed: 0', 'data_ref', 'id_cliente'], axis=1, inplace=True)\n",
    "\n",
    "# Exibindo as informações atualizadas sobre os conjuntos de dados resultantes\n",
    "train_df.info()\n",
    "\n"
   ]
  },
  {
   "cell_type": "code",
   "execution_count": 8,
   "metadata": {},
   "outputs": [
    {
     "data": {
      "text/plain": [
       "{0: 0.2690308242376488,\n",
       " 0.001: 0.26903083448758025,\n",
       " 0.005: 0.2690308754511588,\n",
       " 0.01: 0.2690309265744735,\n",
       " 0.05: 0.26903133234807475,\n",
       " 0.1: 0.26903183169156664}"
      ]
     },
     "execution_count": 8,
     "metadata": {},
     "output_type": "execute_result"
    }
   ],
   "source": [
    "# Preparando as variáveis categóricas e numéricas para a modelagem\n",
    "categorical_cols = train_df.select_dtypes(include=['object', 'bool']).columns\n",
    "numeric_cols = train_df.select_dtypes(include=['int64', 'float64']).columns.drop('renda')\n",
    "\n",
    "# Criando o pré-processador com OneHotEncoder para categóricas e imputador para numéricas\n",
    "preprocessor = ColumnTransformer(\n",
    "    transformers=[\n",
    "        ('num', SimpleImputer(strategy='median'), numeric_cols),\n",
    "        ('cat', OneHotEncoder(drop='first'), categorical_cols)\n",
    "    ])\n",
    "\n",
    "# Criando o modelo Ridge com diferentes valores de alpha\n",
    "ridge_alphas = [0, 0.001, 0.005, 0.01, 0.05, 0.1]\n",
    "ridge_models = {}\n",
    "ridge_scores = {}\n",
    "\n",
    "for alpha in ridge_alphas:\n",
    "    # Criando o pipeline com o pré-processador e o modelo Ridge\n",
    "    ridge_pipe = Pipeline(steps=[\n",
    "        ('preprocessor', preprocessor),\n",
    "        ('regressor', Ridge(alpha=alpha))\n",
    "    ])\n",
    "\n",
    "    # Treinando o modelo no conjunto de treinamento\n",
    "    ridge_pipe.fit(train_df, train_df['renda'])\n",
    "\n",
    "    # Prevendo no conjunto de teste\n",
    "    y_pred = ridge_pipe.predict(test_df)\n",
    "\n",
    "    # Calculando o R² e armazenando o resultado\n",
    "    r2 = r2_score(test_df['renda'], y_pred)\n",
    "    ridge_models[alpha] = ridge_pipe\n",
    "    ridge_scores[alpha] = r2\n",
    "\n",
    "# Mostrando os resultados do R² para cada valor de alpha\n",
    "ridge_scores\n"
   ]
  },
  {
   "cell_type": "markdown",
   "metadata": {},
   "source": [
    "Os valores de R² são bastante similares, mas aumentam ligeiramente com o aumento do alpha. O melhor modelo, baseado em R², é o que utiliza alpha = 0.1, que apresenta o maior valor."
   ]
  },
  {
   "cell_type": "code",
   "execution_count": 10,
   "metadata": {},
   "outputs": [
    {
     "data": {
      "text/plain": [
       "{0: 0.2690308242376489,\n",
       " 0.001: 0.2690309164455068,\n",
       " 0.005: 0.26903128175885405,\n",
       " 0.01: 0.2690317304850405,\n",
       " 0.05: 0.2690350036707603,\n",
       " 0.1: 0.2690383035972087}"
      ]
     },
     "execution_count": 10,
     "metadata": {},
     "output_type": "execute_result"
    }
   ],
   "source": [
    "# Criando o modelo Lasso com diferentes valores de alpha\n",
    "lasso_alphas = [0, 0.001, 0.005, 0.01, 0.05, 0.1]\n",
    "lasso_models = {}\n",
    "lasso_scores = {}\n",
    "\n",
    "for alpha in lasso_alphas:\n",
    "    # Criando o pipeline com o pré-processador e o modelo Lasso\n",
    "    lasso_pipe = Pipeline(steps=[\n",
    "        ('preprocessor', preprocessor),\n",
    "        ('regressor', Lasso(alpha=alpha, max_iter=10000))  # Aumentando o número de iterações para garantir convergência\n",
    "    ])\n",
    "\n",
    "    # Treinando o modelo no conjunto de treinamento\n",
    "    lasso_pipe.fit(train_df, train_df['renda'])\n",
    "\n",
    "    # Prevendo no conjunto de teste\n",
    "    y_pred = lasso_pipe.predict(test_df)\n",
    "\n",
    "    # Calculando o R² e armazenando o resultado\n",
    "    r2 = r2_score(test_df['renda'], y_pred)\n",
    "    lasso_models[alpha] = lasso_pipe\n",
    "    lasso_scores[alpha] = r2\n",
    "\n",
    "# Mostrando os resultados do R² para cada valor de alpha\n",
    "lasso_scores\n"
   ]
  },
  {
   "cell_type": "markdown",
   "metadata": {},
   "source": [
    "Até o momento, tanto a regressão Ridge quanto a regressão Lasso apresentaram resultados similares de R² em torno de 0.2690. A diferença entre eles, com base nos valores de alpha testados, foi mínima, com o melhor modelo de cada método mostrando melhorias muito pequenas ao aumentar o alpha."
   ]
  },
  {
   "cell_type": "code",
   "execution_count": 12,
   "metadata": {},
   "outputs": [
    {
     "data": {
      "text/plain": [
       "0.0856850765656113"
      ]
     },
     "execution_count": 12,
     "metadata": {},
     "output_type": "execute_result"
    }
   ],
   "source": [
    "# Criando um modelo de regressão linear para usar no RFE (Recursive Feature Elimination)\n",
    "linear_regressor = LinearRegression()\n",
    "\n",
    "# Criando o pipeline com o pré-processador e o RFE\n",
    "stepwise_model = Pipeline(steps=[\n",
    "    ('preprocessor', preprocessor),\n",
    "    ('rfe', RFE(estimator=linear_regressor, n_features_to_select=1, step=1)),\n",
    "    ('regressor', linear_regressor)\n",
    "])\n",
    "\n",
    "# Treinando o modelo no conjunto de treinamento\n",
    "stepwise_model.fit(train_df, train_df['renda'])\n",
    "\n",
    "# Prevendo no conjunto de teste\n",
    "y_pred_stepwise = stepwise_model.predict(test_df)\n",
    "\n",
    "# Calculando o R²\n",
    "r2_stepwise = r2_score(test_df['renda'], y_pred_stepwise)\n",
    "r2_stepwise\n"
   ]
  },
  {
   "cell_type": "markdown",
   "metadata": {},
   "source": [
    "Para escolher o melhor modelo entre Ridge, Lasso e Stepwise (regressão linear com RFE), consideramos tanto o desempenho (medido por R²) quanto as características de regularização e seleção de atributos:\n",
    "\n",
    "    Ridge e Lasso: Ambos atingiram R² similares em torno de 0.2690, com a diferença que o Lasso pode zerar alguns coeficientes, fazendo uma seleção natural de variáveis.\n",
    "    Stepwise: Apresentou um R² mais baixo de 0.0857, sugerindo que a seleção de atributos foi menos eficaz para este conjunto de dados.\n",
    "\n",
    "Conclusão: O Lasso se destaca como a melhor opção. Ele não apenas alcança um bom R², mas também ajuda na interpretação do modelo ao identificar as variáveis mais impactantes, sendo uma escolha robusta para evitar o overfitting e simplificar o modelo."
   ]
  },
  {
   "cell_type": "code",
   "execution_count": 14,
   "metadata": {},
   "outputs": [
    {
     "data": {
      "text/plain": [
       "0.270645014864743"
      ]
     },
     "execution_count": 14,
     "metadata": {},
     "output_type": "execute_result"
    }
   ],
   "source": [
    "# Recriando o pré-processador com transformações polinomiais e normalização\n",
    "advanced_preprocessor = ColumnTransformer(\n",
    "    transformers=[\n",
    "        ('num', Pipeline(steps=[\n",
    "            ('imputer', SimpleImputer(strategy='median')),\n",
    "            ('scaler', StandardScaler()),\n",
    "            ('poly', PolynomialFeatures(degree=2, interaction_only=True, include_bias=False))\n",
    "        ]), numeric_cols),\n",
    "        ('cat', OneHotEncoder(drop='first'), categorical_cols)\n",
    "    ])\n",
    "\n",
    "# Recriando o modelo Lasso com transformações avançadas\n",
    "advanced_lasso_model = Pipeline(steps=[\n",
    "    ('preprocessor', advanced_preprocessor),\n",
    "    ('regressor', Lasso(alpha=0.01, max_iter=10000))\n",
    "])\n",
    "\n",
    "# Treinando o modelo com as novas transformações no conjunto de treinamento\n",
    "advanced_lasso_model.fit(train_df, train_df['renda'])\n",
    "\n",
    "# Prevendo no conjunto de teste\n",
    "y_advanced_pred = advanced_lasso_model.predict(test_df)\n",
    "\n",
    "# Calculando o R² com as novas transformações\n",
    "r2_advanced = r2_score(test_df['renda'], y_advanced_pred)\n",
    "r2_advanced\n",
    "\n"
   ]
  },
  {
   "cell_type": "code",
   "execution_count": 15,
   "metadata": {},
   "outputs": [
    {
     "data": {
      "text/plain": [
       "0.35795931804055003"
      ]
     },
     "execution_count": 15,
     "metadata": {},
     "output_type": "execute_result"
    }
   ],
   "source": [
    "# Criando um modelo de árvore de decisão com profundidade limitada para evitar overfitting\n",
    "tree_model = Pipeline(steps=[\n",
    "    ('preprocessor', preprocessor),  # Reutilizando o pré-processador original sem transformações polinomiais\n",
    "    ('regressor', DecisionTreeRegressor(max_depth=4))  # Usando uma árvore pequena com profundidade máxima de 4\n",
    "])\n",
    "\n",
    "# Treinando o modelo de árvore de decisão no conjunto de treinamento\n",
    "tree_model.fit(train_df, train_df['renda'])\n",
    "\n",
    "# Prevendo no conjunto de teste\n",
    "y_tree_pred = tree_model.predict(test_df)\n",
    "\n",
    "# Calculando o R² para a árvore de decisão\n",
    "r2_tree = r2_score(test_df['renda'], y_tree_pred)\n",
    "r2_tree\n"
   ]
  },
  {
   "cell_type": "markdown",
   "metadata": {},
   "source": [
    "Utilizando uma árvore de decisão com profundidade máxima de 4, conseguimos um R² de aproximadamente 0.358 na base de testes. Este resultado é superior ao que obtivemos com os modelos de regressão Lasso e Ridge, indicando que a árvore de decisão, mesmo sendo pequena, foi capaz de capturar melhor as relações entre as variáveis e a variável de resposta.\n",
    "\n",
    "A árvore de decisão pode ser particularmente eficaz neste caso por sua habilidade de modelar relações não-lineares e interações entre variáveis sem a necessidade de especificação explícita, como é o caso das transformações polinomiais. "
   ]
  },
  {
   "cell_type": "code",
   "execution_count": null,
   "metadata": {},
   "outputs": [],
   "source": []
  },
  {
   "cell_type": "code",
   "execution_count": null,
   "metadata": {},
   "outputs": [],
   "source": []
  },
  {
   "cell_type": "code",
   "execution_count": null,
   "metadata": {},
   "outputs": [],
   "source": []
  },
  {
   "cell_type": "code",
   "execution_count": null,
   "metadata": {},
   "outputs": [],
   "source": []
  },
  {
   "cell_type": "code",
   "execution_count": null,
   "metadata": {},
   "outputs": [],
   "source": []
  },
  {
   "cell_type": "code",
   "execution_count": null,
   "metadata": {},
   "outputs": [],
   "source": []
  }
 ],
 "metadata": {
  "kernelspec": {
   "display_name": "Python 3 (ipykernel)",
   "language": "python",
   "name": "python3"
  },
  "language_info": {
   "codemirror_mode": {
    "name": "ipython",
    "version": 3
   },
   "file_extension": ".py",
   "mimetype": "text/x-python",
   "name": "python",
   "nbconvert_exporter": "python",
   "pygments_lexer": "ipython3",
   "version": "3.12.4"
  }
 },
 "nbformat": 4,
 "nbformat_minor": 4
}
